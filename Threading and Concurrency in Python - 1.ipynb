{
 "cells": [
  {
   "cell_type": "code",
   "execution_count": 3,
   "id": "a8ffd8fe",
   "metadata": {},
   "outputs": [
    {
     "name": "stdout",
     "output_type": "stream",
     "text": [
      "sleeping 1 seconds...\n",
      "done sleeping...\n",
      "sleeping 1 seconds...\n",
      "done sleeping...\n",
      "finished in 2.02 second(s)\n"
     ]
    }
   ],
   "source": [
    "# without threading\n",
    "import time\n",
    "\n",
    "start = time.perf_counter()\n",
    "\n",
    "def do_something():\n",
    "    print(\"sleeping 1 seconds...\")\n",
    "    time.sleep(1)\n",
    "    print(\"done sleeping...\")\n",
    "    \n",
    "do_something()\n",
    "do_something()\n",
    "\n",
    "finish = time.perf_counter()\n",
    "\n",
    "print(f\"finished in {round(finish-start, 2)} second(s)\")"
   ]
  },
  {
   "cell_type": "code",
   "execution_count": 5,
   "id": "1d594365",
   "metadata": {},
   "outputs": [
    {
     "name": "stdout",
     "output_type": "stream",
     "text": [
      "sleeping 1 seconds...\n",
      "sleeping 1 seconds...\n",
      "done sleeping...done sleeping...\n",
      "\n",
      "finished in 1.01 second(s)\n"
     ]
    }
   ],
   "source": [
    "# with threading\n",
    "import threading\n",
    "\n",
    "start = time.perf_counter()\n",
    "\n",
    "def do_something():\n",
    "    print(\"sleeping 1 seconds...\")\n",
    "    time.sleep(1)\n",
    "    print(\"done sleeping...\")\n",
    "    \n",
    "t1 = threading.Thread(target=do_something)\n",
    "t2 = threading.Thread(target=do_something)\n",
    "\n",
    "# call start and join methods to process these concurrently\n",
    "\n",
    "t1.start()\n",
    "t2.start()\n",
    "\n",
    "t1.join()\n",
    "t2.join()\n",
    "\n",
    "finish = time.perf_counter()\n",
    "\n",
    "print(f\"finished in {round(finish-start, 2)} second(s)\")"
   ]
  },
  {
   "cell_type": "code",
   "execution_count": 7,
   "id": "813b4e9f",
   "metadata": {},
   "outputs": [
    {
     "name": "stdout",
     "output_type": "stream",
     "text": [
      "sleeping 1.5 second(s)...\n",
      "sleeping 1.5 second(s)...\n",
      "sleeping 1.5 second(s)...\n",
      "sleeping 1.5 second(s)...\n",
      "sleeping 1.5 second(s)...\n",
      "sleeping 1.5 second(s)...\n",
      "sleeping 1.5 second(s)...\n",
      "sleeping 1.5 second(s)...\n",
      "sleeping 1.5 second(s)...\n",
      "sleeping 1.5 second(s)...\n",
      "done sleeping...done sleeping...\n",
      "done sleeping...done sleeping...done sleeping...\n",
      "done sleeping...\n",
      "\n",
      "done sleeping...done sleeping...\n",
      "\n",
      "\n",
      "done sleeping...\n",
      "\n",
      "done sleeping...\n",
      "finished in 1.52 second(s)\n"
     ]
    }
   ],
   "source": [
    "# showing threading when we use them for multiple loops or processes\n",
    "import threading\n",
    "\n",
    "start = time.perf_counter()\n",
    "\n",
    "def do_something(seconds):\n",
    "    print(f\"sleeping {seconds} second(s)...\")\n",
    "    time.sleep(seconds)\n",
    "    print(\"done sleeping...\")\n",
    "    \n",
    "threads = []\n",
    "\n",
    "for _ in range(10):\n",
    "    t = threading.Thread(target=do_something, args=[1.5])\n",
    "    t.start()\n",
    "    threads.append(t)\n",
    "    \n",
    "for thread in threads:\n",
    "    thread.join()\n",
    "    \n",
    "finish = time.perf_counter()\n",
    "\n",
    "print(f\"finished in {round(finish-start, 2)} second(s)\")"
   ]
  }
 ],
 "metadata": {
  "kernelspec": {
   "display_name": "Python 3 (ipykernel)",
   "language": "python",
   "name": "python3"
  },
  "language_info": {
   "codemirror_mode": {
    "name": "ipython",
    "version": 3
   },
   "file_extension": ".py",
   "mimetype": "text/x-python",
   "name": "python",
   "nbconvert_exporter": "python",
   "pygments_lexer": "ipython3",
   "version": "3.9.7"
  }
 },
 "nbformat": 4,
 "nbformat_minor": 5
}
