{
 "cells": [
  {
   "cell_type": "code",
   "execution_count": 7,
   "id": "c3aa0386",
   "metadata": {},
   "outputs": [
    {
     "name": "stdout",
     "output_type": "stream",
     "text": [
      "sleeping 1 seconds...\n",
      "done sleeping...\n",
      "sleeping 1 seconds...\n",
      "done sleeping...\n",
      "finished in 2.01 second(s)\n"
     ]
    }
   ],
   "source": [
    "# without multiprocessing\n",
    "\n",
    "import time\n",
    "\n",
    "start = time.perf_counter()\n",
    "\n",
    "def do_something():\n",
    "    print(\"sleeping 1 seconds...\")\n",
    "    time.sleep(1)\n",
    "    print(\"done sleeping...\")\n",
    "    \n",
    "do_something()\n",
    "do_something()\n",
    "\n",
    "finish = time.perf_counter()\n",
    "\n",
    "print(f\"finished in {round(finish-start, 2)} second(s)\")"
   ]
  },
  {
   "cell_type": "code",
   "execution_count": 9,
   "id": "2e039bc3",
   "metadata": {},
   "outputs": [
    {
     "name": "stdout",
     "output_type": "stream",
     "text": [
      "finished in 0.08 second(s)\n"
     ]
    }
   ],
   "source": [
    "# with multiprocessing\n",
    "\n",
    "import time\n",
    "import multiprocessing\n",
    "\n",
    "start = time.perf_counter()\n",
    "\n",
    "def do_something():\n",
    "    print(\"sleeping 1 seconds...\")\n",
    "    time.sleep(1)\n",
    "    print(\"done sleeping...\")\n",
    "    \n",
    "p1 = multiprocessing.Process(target=do_something)\n",
    "p2 = multiprocessing.Process(target=do_something)\n",
    "\n",
    "p1.start()\n",
    "p2.start()\n",
    "\n",
    "p1.join()\n",
    "p2.join()\n",
    "\n",
    "finish = time.perf_counter()\n",
    "\n",
    "print(f\"finished in {round(finish-start, 2)} second(s)\")"
   ]
  }
 ],
 "metadata": {
  "kernelspec": {
   "display_name": "Python 3 (ipykernel)",
   "language": "python",
   "name": "python3"
  },
  "language_info": {
   "codemirror_mode": {
    "name": "ipython",
    "version": 3
   },
   "file_extension": ".py",
   "mimetype": "text/x-python",
   "name": "python",
   "nbconvert_exporter": "python",
   "pygments_lexer": "ipython3",
   "version": "3.9.7"
  }
 },
 "nbformat": 4,
 "nbformat_minor": 5
}
