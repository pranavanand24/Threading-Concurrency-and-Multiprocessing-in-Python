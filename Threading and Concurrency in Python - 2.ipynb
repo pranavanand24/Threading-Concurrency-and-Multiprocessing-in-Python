{
 "cells": [
  {
   "cell_type": "code",
   "execution_count": 5,
   "id": "29cd78e6",
   "metadata": {},
   "outputs": [
    {
     "name": "stdout",
     "output_type": "stream",
     "text": [
      "sleeping 1 second(s)...\n",
      "sleeping 1 second(s)...\n",
      "done sleeping...\n",
      "done sleeping...\n",
      "finished in 1.01 second(s)\n"
     ]
    }
   ],
   "source": [
    "# using concurrency modules to for more pythonic way\n",
    "\n",
    "import concurrent.futures\n",
    "import time\n",
    "\n",
    "start = time.perf_counter()\n",
    "\n",
    "def do_something(seconds):\n",
    "    print(f\"sleeping {seconds} second(s)...\")\n",
    "    time.sleep(seconds)\n",
    "    return \"done sleeping...\"\n",
    "    \n",
    "with concurrent.futures.ThreadPoolExecutor() as executor:\n",
    "    f1 = executor.submit(do_something, 1)\n",
    "    f2 = executor.submit(do_something, 1)\n",
    "    \n",
    "    print(f1.result())\n",
    "    print(f2.result())\n",
    "    \n",
    "finish = time.perf_counter()\n",
    "\n",
    "print(f\"finished in {round(finish-start, 2)} second(s)\")"
   ]
  },
  {
   "cell_type": "code",
   "execution_count": 7,
   "id": "ffd73382",
   "metadata": {},
   "outputs": [
    {
     "name": "stdout",
     "output_type": "stream",
     "text": [
      "sleeping 5 second(s)...\n",
      "sleeping 4 second(s)...\n",
      "sleeping 3 second(s)...\n",
      "sleeping 2 second(s)...\n",
      "sleeping 1 second(s)...\n",
      "done sleeping...1\n",
      "done sleeping...2\n",
      "done sleeping...3\n",
      "done sleeping...4\n",
      "done sleeping...5\n",
      "finished in 5.01 second(s)\n"
     ]
    }
   ],
   "source": [
    "# using concurrency modules to for more pythonic way with loop (we don't use submit for long scripts)\n",
    "\n",
    "import concurrent.futures\n",
    "import time\n",
    "\n",
    "start = time.perf_counter()\n",
    "\n",
    "def do_something(seconds):\n",
    "    print(f\"sleeping {seconds} second(s)...\")\n",
    "    time.sleep(seconds)\n",
    "    return f'done sleeping...{seconds}'\n",
    "    \n",
    "with concurrent.futures.ThreadPoolExecutor() as executor:\n",
    "    secs = [5,4,3,2,1]\n",
    "    results = [executor.submit(do_something,sec) for sec in secs]\n",
    "    \n",
    "    # as comppleted method method prints them in order of completion\n",
    "    for f in concurrent.futures.as_completed(results):\n",
    "        print(f.result())\n",
    "        \n",
    "finish = time.perf_counter()\n",
    "\n",
    "print(f\"finished in {round(finish-start, 2)} second(s)\")"
   ]
  },
  {
   "cell_type": "code",
   "execution_count": 9,
   "id": "e190784e",
   "metadata": {},
   "outputs": [
    {
     "name": "stdout",
     "output_type": "stream",
     "text": [
      "sleeping 5 second(s)...\n",
      "sleeping 4 second(s)...\n",
      "sleeping 3 second(s)...\n",
      "sleeping 2 second(s)...\n",
      "sleeping 1 second(s)...\n",
      "done sleeping...5\n",
      "done sleeping...4\n",
      "done sleeping...3\n",
      "done sleeping...2\n",
      "done sleeping...1\n",
      "finished in 5.02 second(s)\n"
     ]
    }
   ],
   "source": [
    "# aliter, more pythonic way\n",
    "\n",
    "import concurrent.futures\n",
    "import time\n",
    "\n",
    "start = time.perf_counter()\n",
    "\n",
    "def do_something(seconds):\n",
    "    print(f\"sleeping {seconds} second(s)...\")\n",
    "    time.sleep(seconds)\n",
    "    return f'done sleeping...{seconds}'\n",
    "    \n",
    "with concurrent.futures.ThreadPoolExecutor() as executor:\n",
    "    secs = [5,4,3,2,1]\n",
    "    results = executor.map(do_something, secs)\n",
    "    \n",
    "    for result in results:\n",
    "        print(result)\n",
    "\n",
    "finish = time.perf_counter()\n",
    "print(f\"finished in {round(finish-start, 2)} second(s)\")"
   ]
  }
 ],
 "metadata": {
  "kernelspec": {
   "display_name": "Python 3 (ipykernel)",
   "language": "python",
   "name": "python3"
  },
  "language_info": {
   "codemirror_mode": {
    "name": "ipython",
    "version": 3
   },
   "file_extension": ".py",
   "mimetype": "text/x-python",
   "name": "python",
   "nbconvert_exporter": "python",
   "pygments_lexer": "ipython3",
   "version": "3.9.7"
  }
 },
 "nbformat": 4,
 "nbformat_minor": 5
}
